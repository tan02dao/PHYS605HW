{
 "cells": [
  {
   "cell_type": "markdown",
   "metadata": {},
   "source": [
    "Tan Dao\n",
    "<br>PHYS 605\n",
    "<br>Homework 2\n",
    "<br>Morse Code"
   ]
  },
  {
   "cell_type": "code",
   "execution_count": 1,
   "metadata": {},
   "outputs": [
    {
     "name": "stdout",
     "output_type": "stream",
     "text": [
      "e\n",
      ".\n",
      "dot\n"
     ]
    }
   ],
   "source": [
    "import time\n",
    "\n",
    "#Morse Code\n",
    "instr = input('Enter something: ') #user input here\n",
    "print(instr)\n",
    "upc = instr.upper() #Convert all letter to upper case\n",
    "translate = {'A':'.-'   ,'B':'-...' ,'C':'-.-.' ,'D':'-..'  ,'E':'.'    ,'F':'..-.' ,'G':'--.'  ,'H':'....',\n",
    "         'I':'..'   ,'J':'.---' ,'K':'-.-'  ,'L':'.-..' ,'M':'--'   ,'N':'-.'   ,'O':'---'  ,'P':'.--.',\n",
    "         'Q':'--.-' ,'R':'.-.'  ,'S':'...'  ,'T':'-'    ,'U':'..-'  ,'V':'...-' ,'W':'.--'  ,'X':'-..-',\n",
    "         'Y':'-.--' ,'Z':'--..' ,\n",
    "         '0':'-----','1':'.----','2':'..---','3':'...--','4':'....-',\n",
    "         '5':'.....','6':'-....','7':'--...','8':'----.','9':'----.', ' ':'  '\n",
    "         }\n",
    "\n",
    "out_list = [translate[letter] for letter in upc] #Translate the letter in the\n",
    "                                                 #string to morse code \n",
    "out_str = ' '.join(out_list) #outlist is a list so we need to join the element\n",
    "                              # together to form a letter\n",
    "print(out_str)\n",
    "\n",
    "#import RPi.GPIO as GPIO #the GPIO are for the led blinking, to test the \n",
    "#GPIO.setmode(GPIO.BCM)  #program, use dot and dash time to see if it works\n",
    "\n",
    "dot_time = 0.2 #light on for 0.2 second\n",
    "dash_time = 0.4 #light on for 0.4 second\n",
    "led_pin = 17\n",
    "\n",
    "#GPIO.setup(led_pin, GPIO.OUT)\n",
    "for letter in out_str:\n",
    "    if letter == '.':\n",
    "        #GPIO.output(led_pin, GPIO.HIGH)\n",
    "        time.sleep(dot_time)\n",
    "        #GPIO.output(led_pin, GPIO.Low)\n",
    "        #time.sleep(dot_time)\n",
    "        print('dot')\n",
    "    if letter == ('-'):\n",
    "        #GPIO.output(led_pin, GPIO.HIGH)\n",
    "        time.sleep(dash_time)\n",
    "        #GPIO.output(led_pin, GPIO.Low)\n",
    "        #time.sleep(dash_time)\n",
    "        print('dash')\n",
    "    elif letter == (' '):\n",
    "        time.sleep(dash_time) \n",
    "        print('space')"
   ]
  },
  {
   "cell_type": "markdown",
   "metadata": {},
   "source": [
    "Big number and prime numbers"
   ]
  },
  {
   "cell_type": "code",
   "execution_count": 22,
   "metadata": {},
   "outputs": [
    {
     "name": "stdout",
     "output_type": "stream",
     "text": [
      "[0, 1, 2, 3, 4, 5, 6, 7, 8, 9, 10, 11, 12, 13, 14, 15, 16, 17, 18, 19, 20]\n"
     ]
    }
   ],
   "source": [
    "print([i for i in range(21)]) #a list from 0 to 20"
   ]
  },
  {
   "cell_type": "code",
   "execution_count": 23,
   "metadata": {},
   "outputs": [
    {
     "name": "stdout",
     "output_type": "stream",
     "text": [
      "[20, 19, 18, 17, 16, 15, 14, 13, 12, 11, 10, 9, 8, 7, 6, 5, 4, 3, 2, 1, 0]\n"
     ]
    }
   ],
   "source": [
    "print([i for i in range(20,-1,-1)]) #a list from 20 to  0"
   ]
  },
  {
   "cell_type": "code",
   "execution_count": 24,
   "metadata": {},
   "outputs": [
    {
     "name": "stdout",
     "output_type": "stream",
     "text": [
      "[0, 1, 4, 9, 16, 25, 36, 49, 64, 81, 100, 121, 144, 169, 196, 225, 256, 289, 324, 361, 400]\n"
     ]
    }
   ],
   "source": [
    "print([i**2 for i in range(21)]) #list of squared number"
   ]
  },
  {
   "cell_type": "code",
   "execution_count": 25,
   "metadata": {},
   "outputs": [
    {
     "name": "stdout",
     "output_type": "stream",
     "text": [
      "[1, 2, 4, 8, 16, 32, 64, 128, 256, 512, 1024, 2048, 4096, 8192, 16384, 32768, 65536, 131072, 262144, 524288, 1048576]\n"
     ]
    }
   ],
   "source": [
    "print([2**N for N in range(21)]) #list of 2^N"
   ]
  },
  {
   "cell_type": "code",
   "execution_count": 27,
   "metadata": {},
   "outputs": [
    {
     "name": "stdout",
     "output_type": "stream",
     "text": [
      "Log base 2 of 8 is 3 \n"
     ]
    }
   ],
   "source": [
    "my_log2 = { 1:0, 2:1, 4:2, 8:3, 16:4, 32:5, 64:6, 128:7, 256:8, 512:9, 1024:10, #Library for log base 2\n",
    "           2048:11, 4096:12, 8192:13, 16384:14, 32768:15, 65536:16, 131072:17, \n",
    "           262144:18, 524288:19, 1048576:20\n",
    "           }\n",
    "two_N = int(input('Enter a number from the list of 2^N: '))  \n",
    "print('Log base 2 of {} is {} '.format(two_N, my_log2[two_N]))"
   ]
  },
  {
   "cell_type": "markdown",
   "metadata": {},
   "source": [
    "Prime Checker"
   ]
  },
  {
   "cell_type": "code",
   "execution_count": 28,
   "metadata": {},
   "outputs": [
    {
     "name": "stdout",
     "output_type": "stream",
     "text": [
      "991 is a prime number\n"
     ]
    }
   ],
   "source": [
    "def is_prime(N):\n",
    "    if N == 0:\n",
    "        print('{} is NOT a prime number'.format(N))\n",
    "    if N == 1:\n",
    "        print('{} is NOT a prime number'.format(N))\n",
    "    if 1 < N:\n",
    "        for i in range(2,N):\n",
    "            if (N % i) == 0:\n",
    "                print('{} is NOT a prime number'.format(N))\n",
    "                break\n",
    "        else:\n",
    "            print('{} is a prime number'.format(N))\n",
    "    \n",
    "is_prime(991)"
   ]
  },
  {
   "cell_type": "code",
   "execution_count": 29,
   "metadata": {},
   "outputs": [
    {
     "name": "stdout",
     "output_type": "stream",
     "text": [
      "Primes under 1000 are \n",
      " [2, 3, 5, 7, 11, 13, 17, 19, 23, 29, 31, 37, 41, 43, 47, 53, 59, 61, 67, 71, 73, 79, 83, 89, 97, 101, 103, 107, 109, 113, 127, 131, 137, 139, 149, 151, 157, 163, 167, 173, 179, 181, 191, 193, 197, 199, 211, 223, 227, 229, 233, 239, 241, 251, 257, 263, 269, 271, 277, 281, 283, 293, 307, 311, 313, 317, 331, 337, 347, 349, 353, 359, 367, 373, 379, 383, 389, 397, 401, 409, 419, 421, 431, 433, 439, 443, 449, 457, 461, 463, 467, 479, 487, 491, 499, 503, 509, 521, 523, 541, 547, 557, 563, 569, 571, 577, 587, 593, 599, 601, 607, 613, 617, 619, 631, 641, 643, 647, 653, 659, 661, 673, 677, 683, 691, 701, 709, 719, 727, 733, 739, 743, 751, 757, 761, 769, 773, 787, 797, 809, 811, 821, 823, 827, 829, 839, 853, 857, 859, 863, 877, 881, 883, 887, 907, 911, 919, 929, 937, 941, 947, 953, 967, 971, 977, 983, 991, 997]. \n",
      "\n",
      "Twin primes under 1000 are \n",
      " [[3, 5], [5, 7], [11, 13], [17, 19], [29, 31], [41, 43], [59, 61], [71, 73], [101, 103], [107, 109], [137, 139], [149, 151], [179, 181], [191, 193], [197, 199], [227, 229], [239, 241], [269, 271], [281, 283], [311, 313], [347, 349], [419, 421], [431, 433], [461, 463], [521, 523], [569, 571], [599, 601], [617, 619], [641, 643], [659, 661], [809, 811], [821, 823], [827, 829], [857, 859], [881, 883]]\n"
     ]
    }
   ],
   "source": [
    "def Sieve(sieveSize):\n",
    "    sieve = [True] * sieveSize   # Assume all number is prime then check them false when they are not.\n",
    "    sieve[0] = False # zero is not a prime number\n",
    "    sieve[1] = False # one is not a prime number\n",
    "    # create the sieve\n",
    "    for i in range(1, sieveSize):\n",
    "            if sieve[i] == True:            #Check if \"prime\" is really prime.\n",
    "                p = i * 2                   #prime times 2, so not prime.\n",
    "                while p < sieveSize:        #while p is still in the sieve array, we make it false (not a prime)\n",
    "                    sieve[p] = False        #mark it False\n",
    "                    p += i                   # And move to then next prime and check it.     \n",
    "    primes = [i for i in range(sieveSize) if sieve[i] == True] #print ou the true number and these are the real primes\n",
    "    twin_primes = [[primes[i], primes[i+1]] for i in range(0,len(primes)-1) if (primes[i+1] - primes[i]) == 2]\n",
    "    #if the difference between two primes is two then they are twin primes\n",
    "    return \"Primes under {} are \\n {}. \\n\\nTwin primes under {} are \\n {}\".format(sieveSize,primes,sieveSize,twin_primes)\n",
    "print(Sieve(1000))"
   ]
  },
  {
   "cell_type": "code",
   "execution_count": 30,
   "metadata": {},
   "outputs": [
    {
     "name": "stdout",
     "output_type": "stream",
     "text": [
      "Number 2 appears in (2**2**2**2*22) is 1972 times\n"
     ]
    }
   ],
   "source": [
    "count = 0\n",
    "bignum = str(2**2**2**2**2)\n",
    "for i in bignum:\n",
    "    if i == '2':\n",
    "        count += 1\n",
    "print('Number 2 appears in (2**2**2**2*22) is {} times'.format(count))"
   ]
  }
 ],
 "metadata": {
  "kernelspec": {
   "display_name": "Python 3",
   "language": "python",
   "name": "python3"
  },
  "language_info": {
   "codemirror_mode": {
    "name": "ipython",
    "version": 3
   },
   "file_extension": ".py",
   "mimetype": "text/x-python",
   "name": "python",
   "nbconvert_exporter": "python",
   "pygments_lexer": "ipython3",
   "version": "3.6.5"
  }
 },
 "nbformat": 4,
 "nbformat_minor": 2
}
